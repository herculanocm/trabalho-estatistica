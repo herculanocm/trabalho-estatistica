{
 "cells": [
  {
   "cell_type": "markdown",
   "metadata": {
    "nbpresent": {
     "id": "2f409300-8733-4486-99c9-8c7cce7b16f5"
    }
   },
   "source": [
    "# Pós Graduação em Ciência de Dados e Big Data PUC Minas Uberlândia\n",
    "## ILE - Introdução às Linguagens Estatísticas\n",
    "**Aluno**: Herculano Cunha\n",
    "\n",
    "\n",
    "## Índice\n",
    "* [1. O Básico de Python](#1.-O-Básico-de-Python)\n",
    "* [2. Variáveis](#2.-Variáveis)\n",
    "* [3. Operadores de Comparação](#3.-Operadores-de-Comparação)\n",
    "* [4. Variáveis do tipo *string*](#4.-Variáveis-do-tipo-string)\n",
    "    * [4.1 Operações com string](#4.1-Operações-com-string)"
   ]
  },
  {
   "cell_type": "code",
   "execution_count": 69,
   "metadata": {
    "collapsed": true
   },
   "outputs": [],
   "source": [
    "import pandas as pd\n",
    "import calendar as cal\n",
    "from datetime import datetime"
   ]
  },
  {
   "cell_type": "code",
   "execution_count": 70,
   "metadata": {
    "collapsed": false
   },
   "outputs": [
    {
     "name": "stdout",
     "output_type": "stream",
     "text": [
      "Terminado\n"
     ]
    }
   ],
   "source": [
    "pessoa_df = pd.read_csv('./dados/tab_pessoa.csv',encoding='utf-8',sep=';')\n",
    "unidade_df = pd.read_csv('./dados/tab_unidade.csv',encoding='utf-8',sep=';')\n",
    "cidade_df = pd.read_csv('./dados/tab_cidade.csv',encoding='utf-8',sep=';')\n",
    "item_df = pd.read_csv('./dados/tab_item.csv',encoding='utf-8',sep=';')\n",
    "pre_venda_df = pd.read_csv('./dados/tab_pre_venda.csv',encoding='utf-8',sep=';')\n",
    "item_pre_venda_df = pd.read_csv('./dados/tab_item_pre_venda.csv',encoding='utf-8',sep=';')\n",
    "print(\"Terminado\")"
   ]
  },
  {
   "cell_type": "code",
   "execution_count": 71,
   "metadata": {
    "collapsed": false
   },
   "outputs": [
    {
     "name": "stdout",
     "output_type": "stream",
     "text": [
      "2017-10-01 11:13:00\n"
     ]
    }
   ],
   "source": [
    "#today = datetime.strptime('01/10/2017 11:13','%d/%m/%Y %I:%M')\n",
    "#print(today.strftime('%b %Y'))\n",
    "#print(today)\n"
   ]
  },
  {
   "cell_type": "code",
   "execution_count": 97,
   "metadata": {
    "collapsed": false
   },
   "outputs": [],
   "source": [
    "#Adicionando uma formatação para a data de emissão para fazer agrupamento\n",
    "pre_venda_df['mes_emissao'] =  pre_venda_df.apply(lambda row: datetime.strptime(row['dta_emissao'],'%d/%m/%Y 00:00').strftime('%b %Y'), axis=1)\n",
    "#Convertendo os valores em decimal com ponto\n",
    "pre_venda_df['val_total_pre_venda'] =  pre_venda_df.apply(lambda row: float(str(row['val_total_pre_venda']).replace(',','.')), axis=1)"
   ]
  },
  {
   "cell_type": "code",
   "execution_count": 94,
   "metadata": {
    "collapsed": false
   },
   "outputs": [],
   "source": [
    "#Agrupamneto e soma das vendas por mes\n",
    "soma_mensal = pre_venda_df.groupby('mes_emissao')['val_total_pre_venda'].sum()"
   ]
  }
 ],
 "metadata": {
  "kernelspec": {
   "display_name": "Python 3",
   "language": "python",
   "name": "python3"
  },
  "language_info": {
   "codemirror_mode": {
    "name": "ipython",
    "version": 3
   },
   "file_extension": ".py",
   "mimetype": "text/x-python",
   "name": "python",
   "nbconvert_exporter": "python",
   "pygments_lexer": "ipython3",
   "version": "3.6.0"
  }
 },
 "nbformat": 4,
 "nbformat_minor": 2
}

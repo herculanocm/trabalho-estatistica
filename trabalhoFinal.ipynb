{
 "cells": [
  {
   "cell_type": "markdown",
   "metadata": {
    "nbpresent": {
     "id": "2f409300-8733-4486-99c9-8c7cce7b16f5"
    }
   },
   "source": [
    "# Pós Graduação em Ciência de Dados e Big Data PUC Minas Uberlândia\n",
    "## ILE - Introdução às Linguagens Estatísticas\n",
    "**Aluno**: Herculano Cunha\n",
    "\n",
    "\n",
    "## Índice\n",
    "* [1. O Básico de Python](#1.-O-Básico-de-Python)\n",
    "* [2. Variáveis](#2.-Variáveis)\n",
    "* [3. Operadores de Comparação](#3.-Operadores-de-Comparação)\n",
    "* [4. Variáveis do tipo *string*](#4.-Variáveis-do-tipo-string)\n",
    "    * [4.1 Operações com string](#4.1-Operações-com-string)"
   ]
  },
  {
   "cell_type": "code",
   "execution_count": 39,
   "metadata": {
    "collapsed": true
   },
   "outputs": [],
   "source": [
    "import pandas as pd\n",
    "import calendar as cal\n",
    "from datetime import datetime\n",
    "import matplotlib.pyplot as plt"
   ]
  },
  {
   "cell_type": "code",
   "execution_count": 40,
   "metadata": {},
   "outputs": [
    {
     "name": "stdout",
     "output_type": "stream",
     "text": [
      "Terminado\n"
     ]
    }
   ],
   "source": [
    "pessoa_df = pd.read_csv('./dados/tab_pessoa.csv',encoding='utf-8',sep=';')\n",
    "unidade_df = pd.read_csv('./dados/tab_unidade.csv',encoding='utf-8',sep=';')\n",
    "cidade_df = pd.read_csv('./dados/tab_cidade.csv',encoding='utf-8',sep=';')\n",
    "item_df = pd.read_csv('./dados/tab_item.csv',encoding='utf-8',sep=';')\n",
    "pre_venda_df = pd.read_csv('./dados/tab_pre_venda.csv',encoding='utf-8',sep=';')\n",
    "item_pre_venda_df = pd.read_csv('./dados/tab_item_pre_venda.csv',encoding='utf-8',sep=';')\n",
    "print(\"Terminado\")"
   ]
  },
  {
   "cell_type": "code",
   "execution_count": 71,
   "metadata": {},
   "outputs": [
    {
     "name": "stdout",
     "output_type": "stream",
     "text": [
      "2017-10-01 11:13:00\n"
     ]
    }
   ],
   "source": [
    "#today = datetime.strptime('01/10/2017 11:13','%d/%m/%Y %I:%M')\n",
    "#print(today.strftime('%b %Y'))\n",
    "#print(today)\n"
   ]
  },
  {
   "cell_type": "code",
   "execution_count": 41,
   "metadata": {},
   "outputs": [],
   "source": [
    "#Adicionando uma formatação para a data de emissão para fazer agrupamento\n",
    "pre_venda_df['mes_num'] =  pre_venda_df.apply(lambda row: datetime.strptime(row['dta_emissao'],'%d/%m/%Y 00:00').strftime('%m'), axis=1)\n",
    "#Convertendo os valores em decimal com ponto\n",
    "pre_venda_df['val_total_pre_venda'] =  pre_venda_df.apply(lambda row: float(str(row['val_total_pre_venda']).replace(',','.')), axis=1)"
   ]
  },
  {
   "cell_type": "code",
   "execution_count": 42,
   "metadata": {},
   "outputs": [],
   "source": [
    "pre_venda_df2 = pre_venda_df.join(pessoa_df.set_index('cod_pessoa'), on='cod_pessoa_cliente')"
   ]
  },
  {
   "cell_type": "code",
   "execution_count": 43,
   "metadata": {},
   "outputs": [],
   "source": [
    "#Agrupamneto e soma das vendas por mes\n",
    "soma_mensal_df = pre_venda_df2.groupby('mes_num')[['val_total_pre_venda']].sum()\n",
    "\n",
    "#Agrupamneto e soma das vendas por cliente\n",
    "soma_cliente_df = pre_venda_df2.groupby('nom_pessoa')[['val_total_pre_venda']].sum()"
   ]
  },
  {
   "cell_type": "code",
   "execution_count": null,
   "metadata": {
    "collapsed": true
   },
   "outputs": [],
   "source": []
  }
 ],
 "metadata": {
  "kernelspec": {
   "display_name": "Python 3",
   "language": "python",
   "name": "python3"
  },
  "language_info": {
   "codemirror_mode": {
    "name": "ipython",
    "version": 3
   },
   "file_extension": ".py",
   "mimetype": "text/x-python",
   "name": "python",
   "nbconvert_exporter": "python",
   "pygments_lexer": "ipython3",
   "version": "3.6.1"
  }
 },
 "nbformat": 4,
 "nbformat_minor": 2
}

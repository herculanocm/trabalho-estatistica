{
 "cells": [
  {
   "cell_type": "markdown",
   "metadata": {
    "nbpresent": {
     "id": "2f409300-8733-4486-99c9-8c7cce7b16f5"
    }
   },
   "source": [
    "# Pós Graduação em Ciência de Dados e Big Data PUC Minas Uberlândia\n",
    "## ILE - Introdução às Linguagens Estatísticas\n",
    "**Aluno**: Herculano Cunha\n",
    "\n",
    "\n",
    "## Índice\n",
    "* [1. O Básico de Python](#1.-O-Básico-de-Python)\n",
    "* [2. Variáveis](#2.-Variáveis)\n",
    "* [3. Operadores de Comparação](#3.-Operadores-de-Comparação)\n",
    "* [4. Variáveis do tipo *string*](#4.-Variáveis-do-tipo-string)\n",
    "    * [4.1 Operações com string](#4.1-Operações-com-string)"
   ]
  },
  {
   "cell_type": "code",
   "execution_count": 1,
   "metadata": {
    "collapsed": true
   },
   "outputs": [],
   "source": [
    "import pandas as pd"
   ]
  },
  {
   "cell_type": "code",
   "execution_count": 12,
   "metadata": {},
   "outputs": [
    {
     "name": "stdout",
     "output_type": "stream",
     "text": [
      "Terminado\n"
     ]
    }
   ],
   "source": [
    "pessoa_df = pd.read_csv('./dados/tab_pessoa.csv',encoding='utf-8',sep=';')\n",
    "unidade_df = pd.read_csv('./dados/tab_unidade.csv',encoding='utf-8',sep=';')\n",
    "cidade_df = pd.read_csv('./dados/tab_cidade.csv',encoding='utf-8',sep=';')\n",
    "item_df = pd.read_csv('./dados/tab_item.csv',encoding='utf-8',sep=';')\n",
    "pre_venda_df = pd.read_csv('./dados/tab_pre_venda.csv',encoding='utf-8',sep=';')\n",
    "item_pre_venda_df = pd.read_csv('./dados/tab_item_pre_venda.csv',encoding='utf-8',sep=';')\n",
    "print(\"Terminado\")"
   ]
  },
  {
   "cell_type": "code",
   "execution_count": null,
   "metadata": {},
   "outputs": [],
   "source": []
  }
 ],
 "metadata": {
  "kernelspec": {
   "display_name": "Python 3",
   "language": "python",
   "name": "python3"
  },
  "language_info": {
   "codemirror_mode": {
    "name": "ipython",
    "version": 3
   },
   "file_extension": ".py",
   "mimetype": "text/x-python",
   "name": "python",
   "nbconvert_exporter": "python",
   "pygments_lexer": "ipython3",
   "version": "3.6.1"
  }
 },
 "nbformat": 4,
 "nbformat_minor": 2
}
